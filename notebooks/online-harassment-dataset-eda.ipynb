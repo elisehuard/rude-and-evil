{
 "cells": [
  {
   "cell_type": "markdown",
   "metadata": {},
   "source": [
    "# Online Harassment: data cleaning and first pass"
   ]
  },
  {
   "cell_type": "code",
   "execution_count": 39,
   "metadata": {},
   "outputs": [],
   "source": [
    "import pandas as pd\n",
    "import numpy as np\n",
    "import re\n",
    "\n",
    "\n",
    "from sklearn.feature_extraction.text import CountVectorizer, TfidfVectorizer\n",
    "from sklearn import svm, preprocessing, linear_model\n",
    "from sklearn.metrics import accuracy_score, f1_score, classification_report"
   ]
  },
  {
   "cell_type": "markdown",
   "metadata": {},
   "source": [
    "The original corpus needed some processing: removing all the tabs in the actual tweets for easy loading as tsv."
   ]
  },
  {
   "cell_type": "code",
   "execution_count": 3,
   "metadata": {},
   "outputs": [
    {
     "name": "stdout",
     "output_type": "stream",
     "text": [
      "unparsed data: 81\n"
     ]
    }
   ],
   "source": [
    "start_regex = re.compile(\"(^\\d+\\t\\w\\t)\")\n",
    "with open('../data/onlineHarassmentDataset.tdf', 'r', encoding='latin-1') as infile, open ('../data/corrected.tdf', 'w') as outfile:\n",
    "    next(infile)\n",
    "    outfile.write(\"id\\tcode\\ttweet\\n\")\n",
    "    faulty = 0\n",
    "    for line in infile:\n",
    "        l = line.rstrip()\n",
    "        try:\n",
    "            start = start_regex.search(l).group(1)\n",
    "            (_, end_pos) = start_regex.search(l).span()\n",
    "            outfile.write(start + line[end_pos:].replace('\\t', ' '))\n",
    "        except:\n",
    "            faulty += 1\n",
    "print('unparsed data: %d' % faulty)"
   ]
  },
  {
   "cell_type": "code",
   "execution_count": 4,
   "metadata": {},
   "outputs": [],
   "source": [
    "df = pd.read_csv(\"../data/corrected.tdf\", sep='\\t', dtype={'id': 'int64', 'code': 'category', 'tweet': 'str'})"
   ]
  },
  {
   "cell_type": "code",
   "execution_count": 5,
   "metadata": {},
   "outputs": [
    {
     "data": {
      "text/plain": [
       "N    15067\n",
       "H     5276\n",
       "Name: code, dtype: int64"
      ]
     },
     "execution_count": 5,
     "metadata": {},
     "output_type": "execute_result"
    }
   ],
   "source": [
    "df.code.value_counts()"
   ]
  },
  {
   "cell_type": "code",
   "execution_count": 6,
   "metadata": {},
   "outputs": [
    {
     "data": {
      "text/html": [
       "<div>\n",
       "<style scoped>\n",
       "    .dataframe tbody tr th:only-of-type {\n",
       "        vertical-align: middle;\n",
       "    }\n",
       "\n",
       "    .dataframe tbody tr th {\n",
       "        vertical-align: top;\n",
       "    }\n",
       "\n",
       "    .dataframe thead th {\n",
       "        text-align: right;\n",
       "    }\n",
       "</style>\n",
       "<table border=\"1\" class=\"dataframe\">\n",
       "  <thead>\n",
       "    <tr style=\"text-align: right;\">\n",
       "      <th></th>\n",
       "      <th>id</th>\n",
       "      <th>code</th>\n",
       "      <th>tweet</th>\n",
       "    </tr>\n",
       "  </thead>\n",
       "  <tbody>\n",
       "    <tr>\n",
       "      <th>20196</th>\n",
       "      <td>20214</td>\n",
       "      <td>H</td>\n",
       "      <td>RT @VOICEOFCHID: The enemies of the Jews are t...</td>\n",
       "    </tr>\n",
       "    <tr>\n",
       "      <th>3866</th>\n",
       "      <td>3867</td>\n",
       "      <td>H</td>\n",
       "      <td>\\\"Old ass bitch... ain't been cute since the 7...</td>\n",
       "    </tr>\n",
       "    <tr>\n",
       "      <th>19531</th>\n",
       "      <td>19548</td>\n",
       "      <td>H</td>\n",
       "      <td>#whitelivesmatter #backtheblue dissolution of ...</td>\n",
       "    </tr>\n",
       "    <tr>\n",
       "      <th>19673</th>\n",
       "      <td>19690</td>\n",
       "      <td>H</td>\n",
       "      <td>ISIS releases video in Hebrew with a message t...</td>\n",
       "    </tr>\n",
       "    <tr>\n",
       "      <th>20200</th>\n",
       "      <td>20218</td>\n",
       "      <td>H</td>\n",
       "      <td>RT @WDFx2EU: Anaheim California Grand Dragon o...</td>\n",
       "    </tr>\n",
       "  </tbody>\n",
       "</table>\n",
       "</div>"
      ],
      "text/plain": [
       "          id code                                              tweet\n",
       "20196  20214    H  RT @VOICEOFCHID: The enemies of the Jews are t...\n",
       "3866    3867    H  \\\"Old ass bitch... ain't been cute since the 7...\n",
       "19531  19548    H  #whitelivesmatter #backtheblue dissolution of ...\n",
       "19673  19690    H  ISIS releases video in Hebrew with a message t...\n",
       "20200  20218    H  RT @WDFx2EU: Anaheim California Grand Dragon o..."
      ]
     },
     "execution_count": 6,
     "metadata": {},
     "output_type": "execute_result"
    }
   ],
   "source": [
    "df[df.code == 'H'].sample(5)"
   ]
  },
  {
   "cell_type": "code",
   "execution_count": 7,
   "metadata": {},
   "outputs": [
    {
     "data": {
      "text/html": [
       "<div>\n",
       "<style scoped>\n",
       "    .dataframe tbody tr th:only-of-type {\n",
       "        vertical-align: middle;\n",
       "    }\n",
       "\n",
       "    .dataframe tbody tr th {\n",
       "        vertical-align: top;\n",
       "    }\n",
       "\n",
       "    .dataframe thead th {\n",
       "        text-align: right;\n",
       "    }\n",
       "</style>\n",
       "<table border=\"1\" class=\"dataframe\">\n",
       "  <thead>\n",
       "    <tr style=\"text-align: right;\">\n",
       "      <th></th>\n",
       "      <th>id</th>\n",
       "      <th>code</th>\n",
       "      <th>tweet</th>\n",
       "    </tr>\n",
       "  </thead>\n",
       "  <tbody>\n",
       "    <tr>\n",
       "      <th>2241</th>\n",
       "      <td>2242</td>\n",
       "      <td>N</td>\n",
       "      <td>RT @WhittierPal: Jewish agenda demands that Eu...</td>\n",
       "    </tr>\n",
       "    <tr>\n",
       "      <th>416</th>\n",
       "      <td>417</td>\n",
       "      <td>N</td>\n",
       "      <td>@mccosha @bfraser747 @nazi @Loser George Soros...</td>\n",
       "    </tr>\n",
       "    <tr>\n",
       "      <th>18265</th>\n",
       "      <td>18276</td>\n",
       "      <td>N</td>\n",
       "      <td>The phrase \\\"rabid feminist,\\\" used in any con...</td>\n",
       "    </tr>\n",
       "    <tr>\n",
       "      <th>6777</th>\n",
       "      <td>6785</td>\n",
       "      <td>N</td>\n",
       "      <td>@BERTIE72 @KatzLara @dorothyofisrael or is it ...</td>\n",
       "    </tr>\n",
       "    <tr>\n",
       "      <th>900</th>\n",
       "      <td>901</td>\n",
       "      <td>N</td>\n",
       "      <td>I bet a Jew made this picture cause if you loo...</td>\n",
       "    </tr>\n",
       "  </tbody>\n",
       "</table>\n",
       "</div>"
      ],
      "text/plain": [
       "          id code                                              tweet\n",
       "2241    2242    N  RT @WhittierPal: Jewish agenda demands that Eu...\n",
       "416      417    N  @mccosha @bfraser747 @nazi @Loser George Soros...\n",
       "18265  18276    N  The phrase \\\"rabid feminist,\\\" used in any con...\n",
       "6777    6785    N  @BERTIE72 @KatzLara @dorothyofisrael or is it ...\n",
       "900      901    N  I bet a Jew made this picture cause if you loo..."
      ]
     },
     "execution_count": 7,
     "metadata": {},
     "output_type": "execute_result"
    }
   ],
   "source": [
    "df[df.code == 'N'].sample(5)"
   ]
  },
  {
   "cell_type": "code",
   "execution_count": 8,
   "metadata": {},
   "outputs": [],
   "source": [
    "from sklearn.model_selection import train_test_split\n",
    "X = df['tweet']\n",
    "y = df['code'].values.tolist()\n",
    "\n",
    "X_train, X_test, y_train, y_test = train_test_split(X, y, random_state=42)"
   ]
  },
  {
   "cell_type": "markdown",
   "metadata": {},
   "source": [
    "## Char n-grams as features"
   ]
  },
  {
   "cell_type": "markdown",
   "metadata": {},
   "source": [
    "Using character n-grams like in  for a first pass as mentioned in https://github.com/GreenParachute/hate-speech-popularity from https://arxiv.org/pdf/1805.04661.pdf.\n",
    "Try:\n",
    "* logistic regression\n",
    "* svm (linear, rbf)"
   ]
  },
  {
   "cell_type": "code",
   "execution_count": 8,
   "metadata": {},
   "outputs": [],
   "source": [
    "tfidf = TfidfVectorizer(analyzer = \"char\", ngram_range=(2,4))\n",
    "X_ngrams = tfidf.fit_transform(X_train)"
   ]
  },
  {
   "cell_type": "code",
   "execution_count": 9,
   "metadata": {},
   "outputs": [],
   "source": [
    "clf = linear_model.LogisticRegression(C=1.0)"
   ]
  },
  {
   "cell_type": "code",
   "execution_count": 10,
   "metadata": {},
   "outputs": [
    {
     "data": {
      "text/plain": [
       "LogisticRegression(C=1.0, class_weight=None, dual=False, fit_intercept=True,\n",
       "          intercept_scaling=1, max_iter=100, multi_class='ovr', n_jobs=1,\n",
       "          penalty='l2', random_state=None, solver='liblinear', tol=0.0001,\n",
       "          verbose=0, warm_start=False)"
      ]
     },
     "execution_count": 10,
     "metadata": {},
     "output_type": "execute_result"
    }
   ],
   "source": [
    "clf.fit(X_ngrams,y_train)"
   ]
  },
  {
   "cell_type": "code",
   "execution_count": 11,
   "metadata": {},
   "outputs": [],
   "source": [
    "X_test_ngrams = tfidf.transform(X_test)"
   ]
  },
  {
   "cell_type": "code",
   "execution_count": 12,
   "metadata": {},
   "outputs": [],
   "source": [
    "y_pred = clf.predict(X_test_ngrams)"
   ]
  },
  {
   "cell_type": "code",
   "execution_count": 14,
   "metadata": {},
   "outputs": [
    {
     "name": "stdout",
     "output_type": "stream",
     "text": [
      "                precision    recall  f1-score   support\n",
      "\n",
      "    harassment       0.74      0.15      0.25      1315\n",
      "Non harassment       0.77      0.98      0.86      3771\n",
      "\n",
      "   avg / total       0.76      0.77      0.70      5086\n",
      "\n"
     ]
    }
   ],
   "source": [
    "print(classification_report(y_test, y_pred, labels=['H', 'N'],target_names=['harassment', 'Non harassment']))"
   ]
  },
  {
   "cell_type": "markdown",
   "metadata": {},
   "source": [
    "Recall is pretty bad on the harassment class."
   ]
  },
  {
   "cell_type": "code",
   "execution_count": 15,
   "metadata": {},
   "outputs": [],
   "source": [
    "clf2 = svm.SVC(kernel=\"linear\", C=1.0)"
   ]
  },
  {
   "cell_type": "code",
   "execution_count": 16,
   "metadata": {},
   "outputs": [
    {
     "data": {
      "text/plain": [
       "SVC(C=1.0, cache_size=200, class_weight=None, coef0=0.0,\n",
       "  decision_function_shape='ovr', degree=3, gamma='auto', kernel='linear',\n",
       "  max_iter=-1, probability=False, random_state=None, shrinking=True,\n",
       "  tol=0.001, verbose=False)"
      ]
     },
     "execution_count": 16,
     "metadata": {},
     "output_type": "execute_result"
    }
   ],
   "source": [
    "clf2.fit(X_ngrams,y_train)"
   ]
  },
  {
   "cell_type": "code",
   "execution_count": 17,
   "metadata": {},
   "outputs": [],
   "source": [
    "y_pred = clf2.predict(X_test_ngrams)"
   ]
  },
  {
   "cell_type": "code",
   "execution_count": 18,
   "metadata": {},
   "outputs": [
    {
     "name": "stdout",
     "output_type": "stream",
     "text": [
      "                precision    recall  f1-score   support\n",
      "\n",
      "    harassment       0.72      0.19      0.30      1315\n",
      "Non harassment       0.78      0.97      0.86      3771\n",
      "\n",
      "   avg / total       0.76      0.77      0.72      5086\n",
      "\n"
     ]
    }
   ],
   "source": [
    "print(classification_report(y_test, y_pred, labels=['H', 'N'],target_names=['harassment', 'Non harassment']))"
   ]
  },
  {
   "cell_type": "markdown",
   "metadata": {},
   "source": [
    "Linear kernel svm:"
   ]
  },
  {
   "cell_type": "code",
   "execution_count": 19,
   "metadata": {},
   "outputs": [],
   "source": [
    "clf3 = svm.SVC(kernel=\"rbf\", C=1.0)"
   ]
  },
  {
   "cell_type": "code",
   "execution_count": 20,
   "metadata": {},
   "outputs": [
    {
     "data": {
      "text/plain": [
       "SVC(C=1.0, cache_size=200, class_weight=None, coef0=0.0,\n",
       "  decision_function_shape='ovr', degree=3, gamma='auto', kernel='rbf',\n",
       "  max_iter=-1, probability=False, random_state=None, shrinking=True,\n",
       "  tol=0.001, verbose=False)"
      ]
     },
     "execution_count": 20,
     "metadata": {},
     "output_type": "execute_result"
    }
   ],
   "source": [
    "clf3.fit(X_ngrams,y_train)"
   ]
  },
  {
   "cell_type": "code",
   "execution_count": 21,
   "metadata": {},
   "outputs": [],
   "source": [
    "y_pred = clf3.predict(X_test_ngrams)"
   ]
  },
  {
   "cell_type": "code",
   "execution_count": 22,
   "metadata": {},
   "outputs": [
    {
     "name": "stdout",
     "output_type": "stream",
     "text": [
      "                precision    recall  f1-score   support\n",
      "\n",
      "    harassment       0.00      0.00      0.00      1315\n",
      "Non harassment       0.74      1.00      0.85      3771\n",
      "\n",
      "   avg / total       0.55      0.74      0.63      5086\n",
      "\n"
     ]
    },
    {
     "name": "stderr",
     "output_type": "stream",
     "text": [
      "/home/elise/anaconda3/lib/python3.6/site-packages/sklearn/metrics/classification.py:1135: UndefinedMetricWarning: Precision and F-score are ill-defined and being set to 0.0 in labels with no predicted samples.\n",
      "  'precision', 'predicted', average, warn_for)\n"
     ]
    }
   ],
   "source": [
    "print(classification_report(y_test, y_pred, labels=['H', 'N'],target_names=['harassment', 'Non harassment']))"
   ]
  },
  {
   "cell_type": "markdown",
   "metadata": {},
   "source": [
    "**TODO**: that didn't work at all. Need to understand why."
   ]
  },
  {
   "cell_type": "markdown",
   "metadata": {},
   "source": [
    "## Naive Bayes with word tokens\n",
    "Using tf-idf vectorizer as above, but for words."
   ]
  },
  {
   "cell_type": "code",
   "execution_count": 9,
   "metadata": {},
   "outputs": [],
   "source": [
    "tfidf = TfidfVectorizer(analyzer = \"word\", ngram_range=(1,3), stop_words={'english'})"
   ]
  },
  {
   "cell_type": "code",
   "execution_count": 10,
   "metadata": {},
   "outputs": [],
   "source": [
    "count_vect = CountVectorizer()\n",
    "X_train_counts = count_vect.fit_transform(X_train)"
   ]
  },
  {
   "cell_type": "code",
   "execution_count": 11,
   "metadata": {},
   "outputs": [],
   "source": [
    "X_tfidf_words = tfidf.fit_transform(X_train)"
   ]
  },
  {
   "cell_type": "code",
   "execution_count": 32,
   "metadata": {},
   "outputs": [
    {
     "data": {
      "text/plain": [
       "<15257x351625 sparse matrix of type '<class 'numpy.float64'>'\n",
       "\twith 699165 stored elements in Compressed Sparse Row format>"
      ]
     },
     "execution_count": 32,
     "metadata": {},
     "output_type": "execute_result"
    }
   ],
   "source": [
    "X_tfidf_words"
   ]
  },
  {
   "cell_type": "code",
   "execution_count": 34,
   "metadata": {},
   "outputs": [],
   "source": [
    "from sklearn.naive_bayes import MultinomialNB\n",
    "from sklearn.feature_extraction.text import TfidfTransformer\n",
    "from sklearn.pipeline import Pipeline"
   ]
  },
  {
   "cell_type": "code",
   "execution_count": 35,
   "metadata": {},
   "outputs": [],
   "source": [
    "bayes_clf = Pipeline([('tfidf', TfidfVectorizer(analyzer = \"word\", ngram_range=(1,3), stop_words={'english'})), ('clf', MultinomialNB())])"
   ]
  },
  {
   "cell_type": "code",
   "execution_count": 36,
   "metadata": {},
   "outputs": [],
   "source": [
    "bayes_clf = bayes_clf.fit(X_train, y_train)"
   ]
  },
  {
   "cell_type": "code",
   "execution_count": 37,
   "metadata": {},
   "outputs": [],
   "source": [
    "y_pred = bayes_clf.predict(X_test)"
   ]
  },
  {
   "cell_type": "code",
   "execution_count": 40,
   "metadata": {},
   "outputs": [
    {
     "name": "stdout",
     "output_type": "stream",
     "text": [
      "                precision    recall  f1-score   support\n",
      "\n",
      "    harassment       0.82      0.02      0.05      1315\n",
      "Non harassment       0.75      1.00      0.85      3771\n",
      "\n",
      "   avg / total       0.76      0.75      0.64      5086\n",
      "\n"
     ]
    }
   ],
   "source": [
    "print(classification_report(y_test, y_pred, labels=['H', 'N'],target_names=['harassment', 'Non harassment']))"
   ]
  },
  {
   "cell_type": "markdown",
   "metadata": {},
   "source": [
    "Even worse recall ... best performer is still linear kernel SVM.\n",
    "\n",
    "Let's try several iterations with different parameters for the tfidf features."
   ]
  },
  {
   "cell_type": "code",
   "execution_count": 46,
   "metadata": {},
   "outputs": [],
   "source": [
    "def bayesian_classifier(vectorizer):\n",
    "    clf = Pipeline([('tfidf', vectorizer), ('clf', MultinomialNB())])\n",
    "    clf = clf.fit(X_train, y_train)\n",
    "    y_pred = clf.predict(X_test)\n",
    "    print(classification_report(y_test, y_pred, labels=['H', 'N'],target_names=['harassment', 'Non harassment']))"
   ]
  },
  {
   "cell_type": "code",
   "execution_count": 47,
   "metadata": {},
   "outputs": [],
   "source": [
    "tfidf2 = TfidfVectorizer(ngram_range=(1,3))\n",
    "tfidf3 = TfidfVectorizer()\n",
    "tfidf4 = TfidfVectorizer(analyzer = \"char\", ngram_range=(2,4))\n",
    "tfidf5 = TfidfVectorizer(analyzer = \"word\", ngram_range=(1,2))"
   ]
  },
  {
   "cell_type": "code",
   "execution_count": 48,
   "metadata": {},
   "outputs": [
    {
     "name": "stdout",
     "output_type": "stream",
     "text": [
      "                precision    recall  f1-score   support\n",
      "\n",
      "    harassment       0.82      0.02      0.05      1315\n",
      "Non harassment       0.75      1.00      0.85      3771\n",
      "\n",
      "   avg / total       0.76      0.75      0.64      5086\n",
      "\n"
     ]
    }
   ],
   "source": [
    "bayesian_classifier(tfidf2)"
   ]
  },
  {
   "cell_type": "code",
   "execution_count": 49,
   "metadata": {},
   "outputs": [
    {
     "name": "stdout",
     "output_type": "stream",
     "text": [
      "                precision    recall  f1-score   support\n",
      "\n",
      "    harassment       0.81      0.02      0.03      1315\n",
      "Non harassment       0.74      1.00      0.85      3771\n",
      "\n",
      "   avg / total       0.76      0.74      0.64      5086\n",
      "\n"
     ]
    }
   ],
   "source": [
    "bayesian_classifier(tfidf3)"
   ]
  },
  {
   "cell_type": "code",
   "execution_count": 50,
   "metadata": {},
   "outputs": [
    {
     "name": "stdout",
     "output_type": "stream",
     "text": [
      "                precision    recall  f1-score   support\n",
      "\n",
      "    harassment       1.00      0.00      0.00      1315\n",
      "Non harassment       0.74      1.00      0.85      3771\n",
      "\n",
      "   avg / total       0.81      0.74      0.63      5086\n",
      "\n"
     ]
    }
   ],
   "source": [
    "bayesian_classifier(tfidf4)"
   ]
  },
  {
   "cell_type": "code",
   "execution_count": 51,
   "metadata": {},
   "outputs": [
    {
     "name": "stdout",
     "output_type": "stream",
     "text": [
      "                precision    recall  f1-score   support\n",
      "\n",
      "    harassment       0.95      0.01      0.03      1315\n",
      "Non harassment       0.74      1.00      0.85      3771\n",
      "\n",
      "   avg / total       0.80      0.74      0.64      5086\n",
      "\n"
     ]
    }
   ],
   "source": [
    "bayesian_classifier(tfidf5)"
   ]
  },
  {
   "cell_type": "markdown",
   "metadata": {},
   "source": [
    "not much improvement for these features ..."
   ]
  }
 ],
 "metadata": {
  "kernelspec": {
   "display_name": "Python 3",
   "language": "python",
   "name": "python3"
  },
  "language_info": {
   "codemirror_mode": {
    "name": "ipython",
    "version": 3
   },
   "file_extension": ".py",
   "mimetype": "text/x-python",
   "name": "python",
   "nbconvert_exporter": "python",
   "pygments_lexer": "ipython3",
   "version": "3.6.5"
  }
 },
 "nbformat": 4,
 "nbformat_minor": 2
}
